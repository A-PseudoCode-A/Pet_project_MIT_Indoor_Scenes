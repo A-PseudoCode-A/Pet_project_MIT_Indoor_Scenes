{
 "cells": [
  {
   "cell_type": "markdown",
   "metadata": {},
   "source": [
    "###  Dataset from Kaggle\n",
    "\n",
    "https://www.kaggle.com/datasets/itsahmad/indoor-scenes-cvpr-2019"
   ]
  }
 ],
 "metadata": {
  "language_info": {
   "name": "python"
  }
 },
 "nbformat": 4,
 "nbformat_minor": 2
}
